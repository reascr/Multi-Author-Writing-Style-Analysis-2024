{
 "cells": [
  {
   "cell_type": "code",
   "execution_count": 3,
   "id": "eacebba3-afd0-4789-91fe-7f2f90737c62",
   "metadata": {},
   "outputs": [],
   "source": [
    "import os\n",
    "import random\n",
    "import functools\n",
    "import csv\n",
    "import numpy as np\n",
    "import pandas as pd\n",
    "import torch\n",
    "import torch.nn.functional as F\n",
    "from sklearn.metrics import f1_score\n",
    "from skmultilearn.model_selection import iterative_train_test_split\n",
    "from datasets import Dataset, DatasetDict\n",
    "from peft import PeftModel, PeftConfig\n",
    "from peft import (\n",
    "    LoraConfig,\n",
    "    prepare_model_for_kbit_training,\n",
    "    get_peft_model\n",
    ")\n",
    "from transformers import (\n",
    "    AutoModelForSequenceClassification,\n",
    "    AutoTokenizer,\n",
    "    BitsAndBytesConfig,\n",
    "    TrainingArguments,\n",
    "    Trainer\n",
    ")"
   ]
  },
  {
   "cell_type": "code",
   "execution_count": null,
   "id": "fcf5e717-ca08-4026-b03e-37f909706da1",
   "metadata": {},
   "outputs": [],
   "source": [
    "from huggingface_hub import notebook_login\n",
    "\n",
    "# notebook_login()"
   ]
  },
  {
   "cell_type": "code",
   "execution_count": 5,
   "id": "8034a94b-3d98-452a-a691-72c0adda91f2",
   "metadata": {},
   "outputs": [],
   "source": [
    "# Method and Model Configuration\n",
    "entity = \"rstern\"\n",
    "retrain_from_checkpoint = True\n",
    "model_config = \"org_model\" # possible values: org_model, frozen\n",
    "checkpoint = \"checkpoint-810\"\n",
    "author_label_only = False\n",
    "augmented_data = True\n",
    "experiment_name = \"org_aug_b\" # org_org_a org_aug_b\n",
    "debugg = False\n",
    "# model name\n",
    "model_name = 'mistralai/Mistral-7B-v0.1'"
   ]
  },
  {
   "cell_type": "code",
   "execution_count": 10,
   "id": "b78d9c7c-53a3-4afc-97c8-e6ef23634eda",
   "metadata": {},
   "outputs": [
    {
     "data": {
      "application/vnd.jupyter.widget-view+json": {
       "model_id": "f8a1a41d14744a3783268002dc1c83cb",
       "version_major": 2,
       "version_minor": 0
      },
      "text/plain": [
       "Loading checkpoint shards:   0%|          | 0/2 [00:00<?, ?it/s]"
      ]
     },
     "metadata": {},
     "output_type": "display_data"
    },
    {
     "name": "stderr",
     "output_type": "stream",
     "text": [
      "Some weights of MistralForSequenceClassification were not initialized from the model checkpoint at mistralai/Mistral-7B-v0.1 and are newly initialized: ['score.weight']\n",
      "You should probably TRAIN this model on a down-stream task to be able to use it for predictions and inference.\n"
     ]
    },
    {
     "data": {
      "application/vnd.jupyter.widget-view+json": {
       "model_id": "5e15b8c6a9f54d2c863b01fc76fc6210",
       "version_major": 2,
       "version_minor": 0
      },
      "text/plain": [
       "adapter_model.safetensors:   0%|          | 0.00/579M [00:00<?, ?B/s]"
      ]
     },
     "metadata": {},
     "output_type": "display_data"
    },
    {
     "data": {
      "text/plain": [
       "CommitInfo(commit_url='https://huggingface.co/Stern5497/mistral-lp2-test-model/commit/1ccfad53d74aab6dfa78f67bcf6cdd1593d4317d', commit_message='Upload model', commit_description='', oid='1ccfad53d74aab6dfa78f67bcf6cdd1593d4317d', pr_url=None, pr_revision=None, pr_num=None)"
      ]
     },
     "execution_count": 10,
     "metadata": {},
     "output_type": "execute_result"
    }
   ],
   "source": [
    "tokenizer = AutoTokenizer.from_pretrained(model_name)\n",
    "\n",
    "# new tokens\n",
    "new_tokens = [\"[LP2]\"]\n",
    "new_tokens = set(new_tokens) - set(tokenizer.vocab.keys())\n",
    "tokenizer.add_tokens(list(new_tokens))\n",
    "tokenizer.pad_token = tokenizer.eos_token\n",
    "    \n",
    "config = PeftConfig.from_pretrained(f'multilabel_classification/{model_config}/{checkpoint}')\n",
    "model = AutoModelForSequenceClassification.from_pretrained(config.base_model_name_or_path)\n",
    "model.resize_token_embeddings(len(tokenizer))\n",
    "lora_model = PeftModel.from_pretrained(model, f'multilabel_classification/{model_config}/{checkpoint}', is_trainable=True)\n",
    "\n",
    "# there are many errors when pushing to the hub, as the embedding layer sizes mismatch.\n",
    "# lora_model.push_to_hub(\"mistral-lp2-test-model\", tokenizer=tokenizer, config=config)\n"
   ]
  },
  {
   "cell_type": "code",
   "execution_count": null,
   "id": "eaa08847-7740-418c-8449-325e771ab391",
   "metadata": {},
   "outputs": [],
   "source": []
  }
 ],
 "metadata": {
  "kernelspec": {
   "display_name": "Python 3 (ipykernel)",
   "language": "python",
   "name": "python3"
  },
  "language_info": {
   "codemirror_mode": {
    "name": "ipython",
    "version": 3
   },
   "file_extension": ".py",
   "mimetype": "text/x-python",
   "name": "python",
   "nbconvert_exporter": "python",
   "pygments_lexer": "ipython3",
   "version": "3.10.12"
  }
 },
 "nbformat": 4,
 "nbformat_minor": 5
}
