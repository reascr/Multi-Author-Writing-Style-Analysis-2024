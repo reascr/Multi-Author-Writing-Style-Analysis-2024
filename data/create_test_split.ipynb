{
  "cells": [
    {
      "cell_type": "markdown",
      "metadata": {
        "id": "7nTQTvMRWOcK"
      },
      "source": [
        "Create Test Split\n",
        "\n"
      ]
    },
    {
      "cell_type": "code",
      "execution_count": 1,
      "metadata": {
        "id": "qRMOQ9LbG6mo"
      },
      "outputs": [],
      "source": [
        "import os\n",
        "import random\n",
        "import functools\n",
        "import csv\n",
        "import numpy as np\n",
        "import pandas as pd\n"
      ]
    },
    {
      "cell_type": "markdown",
      "metadata": {
        "id": "CmFM2hwmxtJc"
      },
      "source": [
        "## Load Original Dataset"
      ]
    },
    {
      "cell_type": "code",
      "execution_count": 11,
      "metadata": {
        "colab": {
          "base_uri": "https://localhost:8080/"
        },
        "id": "uV7nFJyCxxFp",
        "outputId": "92b89ad3-05be-4375-d141-50149597b85b"
      },
      "outputs": [
        {
          "output_type": "stream",
          "name": "stdout",
          "text": [
            "Drive already mounted at /content/drive; to attempt to forcibly remount, call drive.mount(\"/content/drive\", force_remount=True).\n"
          ]
        }
      ],
      "source": [
        "try:\n",
        "  import google.colab\n",
        "  IN_COLAB = True\n",
        "except:\n",
        "  IN_COLAB = False\n",
        "if IN_COLAB:\n",
        "  from google.colab import drive\n",
        "  import sys\n",
        "  drive.mount('/content/drive')\n",
        "  # sys.path.append('/content/drive/MyDrive/ucph/LP Project') # If working in collab change this path\n",
        "  path = '/content/drive/MyDrive/ucph/LP Project/'\n",
        "  train_df = pd.read_csv(f'{path}df_train.csv')\n",
        "  val_df = pd.read_csv(f'{path}df_validation.csv')\n",
        "else:\n",
        "  train_df = pd.read_csv(f'df_train.csv')\n",
        "  val_df = pd.read_csv(f'df_validation.csv')\n",
        "\n",
        "# shuffle dataset\n",
        "train_df = train_df.sample(frac=1, random_state=42)\n",
        "val_df = val_df.sample(frac=1, random_state=42)\n"
      ]
    },
    {
      "cell_type": "code",
      "source": [
        "# Calculate the split point\n",
        "split_point = int(0.8 * len(train_df))\n",
        "\n",
        "# Split the DataFrame\n",
        "test_df = train_df[split_point:]\n",
        "train_df = train_df[:split_point]\n",
        "\n",
        "print(len(train_df), len(train_df)/(len(train_df)+len(val_df)+len(test_df)))\n",
        "print(len(val_df), len(val_df)/(len(train_df)+len(val_df)+len(test_df)))\n",
        "print(len(test_df), len(test_df)/(len(train_df)+len(val_df)+len(test_df)))\n"
      ],
      "metadata": {
        "colab": {
          "base_uri": "https://localhost:8080/"
        },
        "id": "-JJQZPGJARjz",
        "outputId": "1bf531b1-c44d-4621-b0bf-ca31b5e6a30a"
      },
      "execution_count": 12,
      "outputs": [
        {
          "output_type": "stream",
          "name": "stdout",
          "text": [
            "41594 0.658226646199617\n",
            "11198 0.17720877973129084\n",
            "10399 0.1645645740690921\n"
          ]
        }
      ]
    },
    {
      "cell_type": "code",
      "source": [
        "# Define the directory and file name\n",
        "path = '/content/drive/MyDrive/ucph/LP Project/data'\n",
        "\n",
        "# Create the directory if it doesn't exist\n",
        "os.makedirs(path, exist_ok=True)\n",
        "\n",
        "file_name = 'test_df.csv'\n",
        "train_path = os.path.join(path, \"train_df.csv\")\n",
        "test_path = os.path.join(path, \"test_df.csv\")\n",
        "\n",
        "# Write the DataFrame to a CSV file in the specified directory\n",
        "train_df.to_csv(train_path, index=False)\n",
        "test_df.to_csv(test_path, index=False)\n"
      ],
      "metadata": {
        "id": "0ZwsL8atCM8h"
      },
      "execution_count": 13,
      "outputs": []
    },
    {
      "cell_type": "markdown",
      "source": [
        "### Load Balanced Augmented Dataset"
      ],
      "metadata": {
        "id": "D_pgr_0fM8ww"
      }
    },
    {
      "cell_type": "code",
      "source": [
        "try:\n",
        "  import google.colab\n",
        "  IN_COLAB = True\n",
        "except:\n",
        "  IN_COLAB = False\n",
        "if IN_COLAB:\n",
        "  from google.colab import drive\n",
        "  import sys\n",
        "  drive.mount('/content/drive')\n",
        "  # sys.path.append('/content/drive/MyDrive/ucph/LP Project') # If working in collab change this path\n",
        "  path = '/content/drive/MyDrive/ucph/LP Project/'\n",
        "  train_df = pd.read_csv(f'{path}balanced_train.csv')\n",
        "  val_df = pd.read_csv(f'{path}balanced_val.csv')\n",
        "else:\n",
        "  train_df = pd.read_csv(f'balanced_train.csv')\n",
        "  train_df = pd.read_csv(f'balanced_val.csv')\n",
        "\n",
        "# shuffle dataset\n",
        "train_df = train_df.sample(frac=1, random_state=42)\n",
        "val_df = val_df.sample(frac=1, random_state=42)\n"
      ],
      "metadata": {
        "colab": {
          "base_uri": "https://localhost:8080/"
        },
        "id": "ZjisGrl7Mz1e",
        "outputId": "70b8b5b7-1213-41e4-f61c-7a6ba6b59f3b"
      },
      "execution_count": 14,
      "outputs": [
        {
          "output_type": "stream",
          "name": "stdout",
          "text": [
            "Drive already mounted at /content/drive; to attempt to forcibly remount, call drive.mount(\"/content/drive\", force_remount=True).\n"
          ]
        }
      ]
    },
    {
      "cell_type": "code",
      "source": [
        "# Calculate the split point\n",
        "split_point = int(0.8 * len(train_df))\n",
        "\n",
        "# Split the DataFrame\n",
        "test_df = train_df[split_point:]\n",
        "train_df = train_df[:split_point]\n",
        "\n",
        "print(len(train_df), len(train_df)/(len(train_df)+len(val_df)+len(test_df)))\n",
        "print(len(val_df), len(val_df)/(len(train_df)+len(val_df)+len(test_df)))\n",
        "print(len(test_df), len(test_df)/(len(train_df)+len(val_df)+len(test_df)))"
      ],
      "metadata": {
        "colab": {
          "base_uri": "https://localhost:8080/"
        },
        "id": "2OO0aKMbNZrF",
        "outputId": "cc61e28a-21fb-40d3-ab69-a681e89ad1e9"
      },
      "execution_count": 15,
      "outputs": [
        {
          "output_type": "stream",
          "name": "stdout",
          "text": [
            "100480 0.6530527355682365\n",
            "28262 0.18368408053970442\n",
            "25120 0.16326318389205913\n"
          ]
        }
      ]
    },
    {
      "cell_type": "code",
      "source": [
        "# Define the directory and file name\n",
        "path = '/content/drive/MyDrive/ucph/LP Project/data'\n",
        "\n",
        "# Create the directory if it doesn't exist\n",
        "os.makedirs(path, exist_ok=True)\n",
        "\n",
        "file_name = 'test_df.csv'\n",
        "train_path = os.path.join(path, \"balanced_train.csv\")\n",
        "test_path = os.path.join(path, \"balanced_test.csv\")\n",
        "\n",
        "# Write the DataFrame to a CSV file in the specified directory\n",
        "train_df.to_csv(train_path, index=False)\n",
        "test_df.to_csv(test_path, index=False)"
      ],
      "metadata": {
        "id": "ZxtBz5xCNguv"
      },
      "execution_count": 16,
      "outputs": []
    },
    {
      "cell_type": "markdown",
      "source": [
        "Filter Test set"
      ],
      "metadata": {
        "id": "ZK0hxHXJsWW7"
      }
    },
    {
      "cell_type": "code",
      "source": [
        "try:\n",
        "  import google.colab\n",
        "  IN_COLAB = True\n",
        "except:\n",
        "  IN_COLAB = False\n",
        "if IN_COLAB:\n",
        "  from google.colab import drive\n",
        "  import sys\n",
        "  drive.mount('/content/drive')\n",
        "  # sys.path.append('/content/drive/MyDrive/ucph/LP Project') # If working in collab change this path\n",
        "  path = '/content/drive/MyDrive/ucph/LP Project/data/'\n",
        "  test_df = pd.read_csv(f'{path}df_test.csv')  # Corrected file path\n",
        "else:\n",
        "  test_df = pd.read_csv(f'test_df.csv')\n",
        "\n"
      ],
      "metadata": {
        "colab": {
          "base_uri": "https://localhost:8080/"
        },
        "id": "eMo0zQSlrdcj",
        "outputId": "514e6909-9afd-4045-c38f-1862ec0de7a0"
      },
      "execution_count": 28,
      "outputs": [
        {
          "output_type": "stream",
          "name": "stdout",
          "text": [
            "Drive already mounted at /content/drive; to attempt to forcibly remount, call drive.mount(\"/content/drive\", force_remount=True).\n"
          ]
        }
      ]
    },
    {
      "cell_type": "code",
      "source": [
        "filtered_0 = test_df[test_df['label_dataset'] == 0]\n",
        "filtered_1 = test_df[test_df['label_dataset'] == 1]\n",
        "filtered_2 = test_df[test_df['label_dataset'] == 2]\n",
        "\n",
        "print(len(filtered_0))\n",
        "print(len(filtered_1))\n",
        "print(len(filtered_2))"
      ],
      "metadata": {
        "colab": {
          "base_uri": "https://localhost:8080/"
        },
        "id": "bYU-dTTIsODC",
        "outputId": "d9d4f805-60b0-458d-eea8-b0b5ca640149"
      },
      "execution_count": 29,
      "outputs": [
        {
          "output_type": "stream",
          "name": "stdout",
          "text": [
            "2236\n",
            "4406\n",
            "3757\n"
          ]
        }
      ]
    },
    {
      "cell_type": "code",
      "source": [
        "min_len = min([len(filtered_0), len(filtered_1), len(filtered_2)])\n",
        "print(min_len)"
      ],
      "metadata": {
        "colab": {
          "base_uri": "https://localhost:8080/"
        },
        "id": "44jGySUfxbvF",
        "outputId": "1951fef1-6ec2-48d5-e110-55d0175e7447"
      },
      "execution_count": 31,
      "outputs": [
        {
          "output_type": "stream",
          "name": "stdout",
          "text": [
            "2236\n"
          ]
        }
      ]
    },
    {
      "cell_type": "code",
      "source": [
        "filtered_0 = filtered_0.sample(min_len)\n",
        "filtered_1 = filtered_1.sample(min_len)\n",
        "filtered_2 = filtered_2.sample(min_len)\n",
        "\n",
        "print(len(filtered_0))\n",
        "print(len(filtered_1))\n",
        "print(len(filtered_2))"
      ],
      "metadata": {
        "colab": {
          "base_uri": "https://localhost:8080/"
        },
        "id": "4FLIMEFQxtC1",
        "outputId": "cf903e2e-bd60-4590-87d8-9e556529d392"
      },
      "execution_count": 32,
      "outputs": [
        {
          "output_type": "stream",
          "name": "stdout",
          "text": [
            "2236\n",
            "2236\n",
            "2236\n"
          ]
        }
      ]
    },
    {
      "cell_type": "code",
      "source": [
        "path_0 = os.path.join(path, f\"test_df_{0}.csv\")\n",
        "filtered_0.to_csv(path_0, index=False)\n",
        "\n",
        "path_1 = os.path.join(path, f\"test_df_{1}.csv\")\n",
        "filtered_1.to_csv(path_1, index=False)\n",
        "\n",
        "path_2 = os.path.join(path, f\"test_df_{2}.csv\")\n",
        "filtered_2.to_csv(path_2, index=False)\n",
        "\n"
      ],
      "metadata": {
        "id": "7CH5TRoswcw5"
      },
      "execution_count": 33,
      "outputs": []
    }
  ],
  "metadata": {
    "colab": {
      "machine_shape": "hm",
      "provenance": []
    },
    "kernelspec": {
      "display_name": "Python 3",
      "name": "python3"
    },
    "language_info": {
      "codemirror_mode": {
        "name": "ipython",
        "version": 3
      },
      "file_extension": ".py",
      "mimetype": "text/x-python",
      "name": "python",
      "nbconvert_exporter": "python",
      "pygments_lexer": "ipython3",
      "version": "3.10.12"
    }
  },
  "nbformat": 4,
  "nbformat_minor": 0
}